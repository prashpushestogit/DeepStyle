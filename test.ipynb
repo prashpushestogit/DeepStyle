{
 "cells": [
  {
   "cell_type": "code",
   "execution_count": 22,
   "id": "6215a17d",
   "metadata": {},
   "outputs": [],
   "source": [
    "import tensorflow\n",
    "from tensorflow.keras.preprocessing import image\n",
    "from tensorflow.keras.layers import GlobalMaxPooling2D\n",
    "from tensorflow.keras.applications.resnet50 import ResNet50,preprocess_input\n",
    "import numpy as np\n",
    "from numpy.linalg import norm\n",
    "import os\n",
    "from tqdm.notebook import tqdm\n",
    "import pickle\n",
    "import cv2\n",
    "#from sklearn.neighbors import NearestNeighbors\n",
    "import faiss\n",
    "\n",
    "import warnings\n",
    "warnings.filterwarnings('ignore')"
   ]
  },
  {
   "cell_type": "code",
   "execution_count": 23,
   "id": "523ddc2e",
   "metadata": {},
   "outputs": [],
   "source": [
    "features = np.array(pickle.load(open('features.pkl','rb')))"
   ]
  },
  {
   "cell_type": "code",
   "execution_count": 24,
   "id": "250d6c43",
   "metadata": {},
   "outputs": [],
   "source": [
    "features = np.array(features).astype('float32')"
   ]
  },
  {
   "cell_type": "code",
   "execution_count": 25,
   "id": "fc433d5c",
   "metadata": {},
   "outputs": [
    {
     "name": "stdout",
     "output_type": "stream",
     "text": [
      "(44441, 2048)\n"
     ]
    }
   ],
   "source": [
    "print(features.shape)"
   ]
  },
  {
   "cell_type": "code",
   "execution_count": 26,
   "id": "58d3d20a",
   "metadata": {},
   "outputs": [],
   "source": [
    "index = faiss.IndexFlatL2(features.shape[1])\n",
    "index.add(features)"
   ]
  },
  {
   "cell_type": "code",
   "execution_count": 27,
   "id": "914067a2",
   "metadata": {},
   "outputs": [],
   "source": [
    "filesname = pickle.load(open('filesname.pkl','rb'))"
   ]
  },
  {
   "cell_type": "code",
   "execution_count": 28,
   "id": "2b594998",
   "metadata": {},
   "outputs": [],
   "source": [
    "model = ResNet50(weights='imagenet',include_top=False,input_shape=(224,224,3))\n",
    "model.trainable= False"
   ]
  },
  {
   "cell_type": "code",
   "execution_count": 29,
   "id": "4f5cb7e5",
   "metadata": {},
   "outputs": [],
   "source": [
    "model = tensorflow.keras.Sequential([\n",
    "    model,\n",
    "    GlobalMaxPooling2D()\n",
    "])"
   ]
  },
  {
   "cell_type": "code",
   "execution_count": null,
   "id": "822048b3",
   "metadata": {},
   "outputs": [
    {
     "name": "stdout",
     "output_type": "stream",
     "text": [
      "\u001b[1m1/1\u001b[0m \u001b[32m━━━━━━━━━━━━━━━━━━━━\u001b[0m\u001b[37m\u001b[0m \u001b[1m2s\u001b[0m 2s/step\n"
     ]
    }
   ],
   "source": [
    "img =image.load_img('sample\\shorts.jpg',target_size=(224,224))\n",
    "img_array = image.img_to_array(img).astype('float32')\n",
    "expanded_img_array=np.expand_dims(img_array,axis=0)\n",
    "preprocessed_img=preprocess_input(expanded_img_array)\n",
    "result=model.predict(preprocessed_img).flatten()\n",
    "normalized_result=result/norm(result)"
   ]
  },
  {
   "cell_type": "code",
   "execution_count": 31,
   "id": "78508d72",
   "metadata": {},
   "outputs": [
    {
     "name": "stdout",
     "output_type": "stream",
     "text": [
      "(224, 224, 3)\n"
     ]
    }
   ],
   "source": [
    "print(img_array.shape)"
   ]
  },
  {
   "cell_type": "code",
   "execution_count": 32,
   "id": "2dc632f0",
   "metadata": {},
   "outputs": [],
   "source": [
    "distances, indices = index.search(normalized_result.reshape(1, -1), k=5)"
   ]
  },
  {
   "cell_type": "code",
   "execution_count": 37,
   "id": "2be9fa2c",
   "metadata": {},
   "outputs": [],
   "source": [
    "\n",
    "\n",
    "for idx in indices[0][1:6]:  # skip first one if it's the same image\n",
    "    result_image = cv2.imread(filesname[idx])  # use your actual file path list\n",
    "    cv2.imshow('Similar Image', cv2.resize(result_image, (512, 512)))\n",
    "    cv2.waitKey(0)"
   ]
  },
  {
   "cell_type": "code",
   "execution_count": 34,
   "id": "4d26683f",
   "metadata": {},
   "outputs": [],
   "source": [
    "#neighbors = NearestNeighbors(n_neighbors=6,algorithm='brute',metric='euclidean')\n",
    "#neighbors.fit(features)"
   ]
  },
  {
   "cell_type": "code",
   "execution_count": 35,
   "id": "7f8c17c6",
   "metadata": {},
   "outputs": [],
   "source": [
    "#distances , indices = neighbors.kneighbors([normalized_result])"
   ]
  },
  {
   "cell_type": "code",
   "execution_count": 36,
   "id": "79334acd",
   "metadata": {},
   "outputs": [],
   "source": [
    "#for file in indices[0][1:6]:\n",
    "  # result_image = cv2.imread((filesname[file]))\n",
    "  # cv2.imshow('output',cv2.resize(result_image,(512,512)))\n",
    "  # cv2.waitKey(0)"
   ]
  },
  {
   "cell_type": "code",
   "execution_count": null,
   "id": "8c576262",
   "metadata": {},
   "outputs": [],
   "source": []
  }
 ],
 "metadata": {
  "kernelspec": {
   "display_name": "ann",
   "language": "python",
   "name": "python3"
  },
  "language_info": {
   "codemirror_mode": {
    "name": "ipython",
    "version": 3
   },
   "file_extension": ".py",
   "mimetype": "text/x-python",
   "name": "python",
   "nbconvert_exporter": "python",
   "pygments_lexer": "ipython3",
   "version": "3.13.5"
  }
 },
 "nbformat": 4,
 "nbformat_minor": 5
}
